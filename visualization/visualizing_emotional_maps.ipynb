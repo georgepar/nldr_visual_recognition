{
 "cells": [
  {
   "cell_type": "markdown",
   "metadata": {},
   "source": [
    "# Visualizing 2D Emotional-Manifolds from Acoustic Features   \n",
    "## Efthymios Tzinis"
   ]
  },
  {
   "cell_type": "code",
   "execution_count": null,
   "metadata": {},
   "outputs": [],
   "source": [
    "# Load the appropriate modules \n",
    "import os, sys, glob\n",
    "import numpy as np\n",
    "sys.path.append('../')\n",
    "import config\n",
    "sys.path.append(config.BASE_PATH)\n",
    "from dataloader import fused_features_IEMOCAP as IEMOCAP_loader\n",
    "\n",
    "sys.path.append(config.PATTERN_SEARCH_MDS_PATH)"
   ]
  },
  {
   "cell_type": "code",
   "execution_count": null,
   "metadata": {},
   "outputs": [],
   "source": [
    "# Loading functions for the whole dataset with emotional utterances \n",
    "def get_dataset_in_one_array(features_dic):\n",
    "    x_all_list = []\n",
    "    Y_all = []\n",
    "    for te_speaker, te_data in features_dic.items():  \n",
    "        x_all_list.append(te_data['x'])\n",
    "        Y_all += te_data['y']        \n",
    "        X_all = np.concatenate(x_all_list, axis=0)\n",
    "    return X_all, Y_all"
   ]
  },
  {
   "cell_type": "markdown",
   "metadata": {},
   "source": [
    "## Initialize all available Dimensionalality Reduction Methods"
   ]
  },
  {
   "cell_type": "code",
   "execution_count": null,
   "metadata": {},
   "outputs": [],
   "source": [
    "import multidimensional\n",
    "import multidimensional.common\n",
    "import multidimensional.mds \n",
    "import multidimensional.smacof\n",
    "from sklearn import manifold, decomposition\n",
    "from sklearn.preprocessing import StandardScaler\n",
    "from sklearn.neighbors import KNeighborsClassifier\n",
    "import pprint \n",
    "import pandas as pd \n",
    "\n",
    "class IdentityData(object):\n",
    "    def __init__(self):\n",
    "        pass \n",
    "    \n",
    "    def fit_transform(self, x):\n",
    "        return x\n",
    "\n",
    "def get_manifold_methods(target_dim):\n",
    "    method_n_comp = 66\n",
    "    radius_barrier = 1e-3\n",
    "    explore_dim_percent = .9\n",
    "    starting_radius = 1\n",
    "    max_turns = 10000\n",
    "    point_filter = (multidimensional.point_filters.FixedStochasticFilter(keep_percent=1, recalculate_each=10))\n",
    "    radius_update = (multidimensional.radius_updates.AdaRadiusHalving(tolerance=.5*1e-3, burnout_tolerance=100000))\n",
    "\n",
    "    mds_obj = multidimensional.mds.MDS(target_dim, point_filter, radius_update, starting_radius=starting_radius, \n",
    "                                       radius_barrier=radius_barrier,\n",
    "                max_turns=max_turns, keep_history=False,\n",
    "                explore_dim_percent=explore_dim_percent)\n",
    "\n",
    "    manifold_methods = {\n",
    "        'Pattern Search MDS': { 'results': {}, 'object': multidimensional.mds.MDS(target_dim, point_filter, \n",
    "                                                         radius_update, starting_radius=starting_radius, \n",
    "                                                         radius_barrier=radius_barrier, max_turns=max_turns, \n",
    "                                                         keep_history=False,\n",
    "                                                         dissimilarities='precomputed',\n",
    "                                                         explore_dim_percent=explore_dim_percent)},\n",
    "        'MDS SMACOF': { 'results': {}, 'object': multidimensional.smacof.MDS(n_components=target_dim, n_init=1, \n",
    "                                                 max_iter=max_turns, dissimilarity='euclidean', n_jobs=8)},\n",
    "        'LTSA': { 'results': {}, 'object': manifold.LocallyLinearEmbedding(method_n_comp, target_dim, \n",
    "                                           eigen_solver='auto', method='ltsa',n_jobs=8)},\n",
    "        'Modified LLE': { 'results': {}, 'object': manifold.LocallyLinearEmbedding(method_n_comp, target_dim, \n",
    "                                           eigen_solver='auto', method='modified',n_jobs=8)},\n",
    "        'Hessian LLE': { 'results': {}, 'object': manifold.LocallyLinearEmbedding(method_n_comp, target_dim, \n",
    "                                           eigen_solver='auto', method='hessian',n_jobs=8)},\n",
    "        'LLE': { 'results': {}, 'object': manifold.LocallyLinearEmbedding(method_n_comp, target_dim, \n",
    "                                           eigen_solver='auto', method='standard',n_jobs=8)},\n",
    "        'Truncated SVD': { 'results': {}, 'object': decomposition.TruncatedSVD(n_components=target_dim)},\n",
    "        'Spectral Embedding': { 'results': {}, 'object': manifold.SpectralEmbedding(n_components=target_dim, \n",
    "                                                                                    n_jobs=8)},\n",
    "        'TSNE': { 'results': {}, 'object': manifold.TSNE(n_components=target_dim)},\n",
    "        'ISOMAP': { 'results': {}, 'object': manifold.Isomap(12, target_dim)},\n",
    "        'Original Data': { 'results': {}, 'object': IdentityData()}\n",
    "\n",
    "    }\n",
    "    return manifold_methods"
   ]
  },
  {
   "cell_type": "code",
   "execution_count": null,
   "metadata": {},
   "outputs": [],
   "source": [
    "# Function for creating manifolds visualizations on grid\n",
    "def create_2d_manifolds_for_all_methods(data_dic, methods_to_test, target_dim=2):\n",
    "    X_all, Y_all = get_dataset_in_one_array(data_dic)\n",
    "    X_high = StandardScaler().fit_transform(X_all)\n",
    "    manifold_methods = get_manifold_methods(target_dim)\n",
    "    \n",
    "    results_for_methods = {}\n",
    "    print X_high.shape\n",
    "    \n",
    "    for selected_method in methods_to_test:\n",
    "        print 'Checking Method: {}'.format(selected_method)\n",
    "        obj = manifold_methods[selected_method]['object']\n",
    "        \n",
    "        try:\n",
    "            if selected_method == 'Pattern Search MDS':\n",
    "                d_goal = multidimensional.common.DISTANCE_MATRIX(X_high.astype(np.float64))\n",
    "                X_low = obj.fit_transform(d_goal)\n",
    "            else:\n",
    "                X_low = obj.fit_transform(X_high)\n",
    "        except Exception as e:\n",
    "            print \"Warning Method: {} did not produce results\".format(selected_method)\n",
    "            print e\n",
    "            X_low = None\n",
    "            \n",
    "        results_for_methods[selected_method] = X_low\n",
    "        \n",
    "    return results_for_methods, Y_all"
   ]
  },
  {
   "cell_type": "markdown",
   "metadata": {},
   "source": [
    "# Compute 2D Manifolds Learned from different Dimensionality Reduction Methods using all combinations of features for EmoDB"
   ]
  },
  {
   "cell_type": "code",
   "execution_count": null,
   "metadata": {
    "scrolled": true
   },
   "outputs": [],
   "source": [
    "# Load the dataset for different feature sets and create 2D manifolds \n",
    "# Find all appropriate files \n",
    "data_path = '/home/thymios/all_BERLIN_features/'\n",
    "berlin_l_feats_p = data_path + 'linear/BERLIN_linear_emobase2010'\n",
    "berlin_nl_feats_p = os.path.join(data_path, \n",
    "             'rqa/utterance/BERLIN-rqa-ad_hoc-tau-7-manhattan-recurrence_rate-0.15-dur-0.02-fs-16000.dat')\n",
    "\n",
    "RQA_dic = IEMOCAP_loader.get_fused_features([berlin_nl_feats_p])\n",
    "Linear_dic = IEMOCAP_loader.get_fused_features([berlin_l_feats_p])\n",
    "Fused_dic = IEMOCAP_loader.get_fused_features([berlin_l_feats_p, berlin_nl_feats_p])\n",
    "\n",
    "methods_to_test = ['Pattern Search MDS', 'MDS SMACOF','Truncated SVD', 'Spectral Embedding', 'LLE', \n",
    "                   'Hessian LLE', 'Modified LLE', 'LTSA', 'ISOMAP', 'TSNE']   \n",
    "X_lows_for_RQA, Y_RQA = create_2d_manifolds_for_all_methods(RQA_dic, methods_to_test)\n",
    "X_lows_for_Emobase, Y_Emobase = create_2d_manifolds_for_all_methods(Linear_dic, methods_to_test)\n",
    "X_lows_for_Fused, Y_fused = create_2d_manifolds_for_all_methods(Fused_dic, methods_to_test)"
   ]
  },
  {
   "cell_type": "code",
   "execution_count": null,
   "metadata": {},
   "outputs": [],
   "source": [
    "# Functions for creating the scatter plots based on the existing Y_values \n",
    "def get_xy_pairs_based_on_class(Xm, Ym):\n",
    "    emotions = {}\n",
    "    for y in Ym:\n",
    "        if not y in emotions:\n",
    "            emotions[y] = {'xs':[], 'ys':[]}\n",
    "    \n",
    "    if Xm is None:\n",
    "        return emotions\n",
    "    \n",
    "    for i in np.arange(Xm.shape[0]):\n",
    "        this_emotion = Ym[i]\n",
    "        emotions[this_emotion]['xs'].append(Xm[i,0])\n",
    "        emotions[this_emotion]['ys'].append(Xm[i,1])\n",
    "    return emotions\n",
    "\n",
    "def get_xy_for_all(emotions, Ym):\n",
    "    results_to_plot = {}\n",
    "    for method, Xm in emotions.items():\n",
    "        xypairs = get_xy_pairs_based_on_class(Xm, Ym)\n",
    "        results_to_plot[method] = xypairs\n",
    "    return results_to_plot"
   ]
  },
  {
   "cell_type": "code",
   "execution_count": null,
   "metadata": {},
   "outputs": [],
   "source": [
    "# Plotly Functions \n",
    "import plotly\n",
    "import plotly.tools as tls\n",
    "import plotly.plotly as py\n",
    "import plotly.figure_factory as ff\n",
    "import plotly.graph_objs as go\n",
    "plotly.offline.init_notebook_mode()\n",
    "\n",
    "def create_one_scatter(title, emotions_xy_pairs):\n",
    "    traces = []\n",
    "    for emotion, xypairs in emotions_xy_pairs.items():\n",
    "        trace = go.Scatter(\n",
    "            x = xypairs['xs'],\n",
    "            y = xypairs['ys'],\n",
    "            name = emotion,\n",
    "            opacity = 0.7,\n",
    "            mode = 'markers',\n",
    "            marker = dict(symbol = 'star', size = 10)    \n",
    "        )\n",
    "        traces.append(trace)\n",
    "        \n",
    "    layout = dict(title = title)\n",
    "    fig = dict(data=traces, layout=layout)\n",
    "    plotly.offline.iplot(fig, filename=title)"
   ]
  },
  {
   "cell_type": "markdown",
   "metadata": {},
   "source": [
    "## Compare 2D Manifolds Leanred from different Dimensionality Reduction Methods when using only RQA features"
   ]
  },
  {
   "cell_type": "code",
   "execution_count": null,
   "metadata": {
    "scrolled": true
   },
   "outputs": [],
   "source": [
    "results_to_plot = get_xy_for_all(X_lows_for_RQA, Y_RQA)\n",
    "for method, emotions_xy_pairs in results_to_plot.items():\n",
    "    create_one_scatter(method, emotions_xy_pairs)"
   ]
  },
  {
   "cell_type": "markdown",
   "metadata": {},
   "source": [
    "## Compare 2D Manifolds Leanred from different Dimensionality Reduction Methods when using only Emobase features"
   ]
  },
  {
   "cell_type": "code",
   "execution_count": null,
   "metadata": {
    "scrolled": true
   },
   "outputs": [],
   "source": [
    "results_to_plot = get_xy_for_all(X_lows_for_Emobase, Y_Emobase)\n",
    "for method, emotions_xy_pairs in results_to_plot.items():\n",
    "    create_one_scatter(method, emotions_xy_pairs)"
   ]
  },
  {
   "cell_type": "markdown",
   "metadata": {},
   "source": [
    "## Compare 2D Manifolds Learned from different Dimensionality Reduction Methods when using the Fused feature set"
   ]
  },
  {
   "cell_type": "code",
   "execution_count": null,
   "metadata": {
    "scrolled": true
   },
   "outputs": [],
   "source": [
    "results_to_plot = get_xy_for_all(X_lows_for_Fused, Y_fused)\n",
    "for method, emotions_xy_pairs in results_to_plot.items():\n",
    "    create_one_scatter(method, emotions_xy_pairs)"
   ]
  },
  {
   "cell_type": "markdown",
   "metadata": {},
   "source": [
    "# Experiments with different speakers from IEMOCAP"
   ]
  },
  {
   "cell_type": "code",
   "execution_count": null,
   "metadata": {},
   "outputs": [],
   "source": [
    "def fuse_excited_happiness(l):\n",
    "    return ['happy + excited' \n",
    "            if (e == 'excited' or e == 'happy') \n",
    "            else e for e in l ]\n",
    "\n",
    "def create_2d_manifolds_for_all_methods_for_speakers(data_dic, methods_to_test, \n",
    "                                                     target_dim=2, selected_speakers=['Ses01M', 'Ses02M']):\n",
    "    X1 = data_dic[selected_speakers[0]]['x']\n",
    "    Y1 = data_dic[selected_speakers[0]]['y']\n",
    "    X2 = data_dic[selected_speakers[1]]['x']\n",
    "    Y2 = data_dic[selected_speakers[1]]['y']\n",
    "    \n",
    "    X_all = np.concatenate([X1, X2], axis=0)\n",
    "    Y_all = Y1 + Y2\n",
    "    \n",
    "    X_high = StandardScaler().fit_transform(X_all)\n",
    "    manifold_methods = get_manifold_methods(target_dim)\n",
    "    \n",
    "    results_for_methods = {}\n",
    "    print X_high.shape\n",
    "    \n",
    "    for selected_method in methods_to_test:\n",
    "        print 'Checking Method: {}'.format(selected_method)\n",
    "        obj = manifold_methods[selected_method]['object']\n",
    "        results_for_methods[selected_method] = {'X1':None, 'X2':None}\n",
    "        \n",
    "        try:\n",
    "            if selected_method == 'Pattern Search MDS':\n",
    "                d_goal = multidimensional.common.DISTANCE_MATRIX(X_high.astype(np.float64))\n",
    "                X_low = obj.fit_transform(d_goal)\n",
    "            else:\n",
    "                X_low = obj.fit_transform(X_high)\n",
    "        except Exception as e:\n",
    "            print \"Warning Method: {} did not produce results\".format(selected_method)\n",
    "            print e\n",
    "            \n",
    "        X1_low = X_low[:X1.shape[0],:]\n",
    "        X2_low = X_low[X1.shape[0]:,:]\n",
    "        results_for_methods[selected_method]['X1'] = X1_low\n",
    "        results_for_methods[selected_method]['X2'] = X2_low\n",
    "        \n",
    "    return results_for_methods, Y1, Y2"
   ]
  },
  {
   "cell_type": "code",
   "execution_count": null,
   "metadata": {},
   "outputs": [],
   "source": [
    "# Load IEMOCAP\n",
    "IEMOCAP_data_path = '/home/thymios/all_TRUE_IEMOCAP_feats/'\n",
    "l_feats_p = IEMOCAP_data_path + 'linear/IEMOCAP_linear_emobase2010'\n",
    "nl_feats_p = os.path.join(IEMOCAP_data_path, \n",
    "             'utterance/IEMOCAP-rqa-ad_hoc-tau-7-supremum-recurrence_rate-0.15-dur-0.03-fs-16000.dat')\n",
    "selected_speakers = ['Ses01M', 'Ses02M']\n",
    "Fused_IEMO_dic = IEMOCAP_loader.get_fused_features([l_feats_p, nl_feats_p])\n",
    "results_for_methods, Y1, Y2 = create_2d_manifolds_for_all_methods_for_speakers(Fused_IEMO_dic, methods_to_test, \n",
    "                                                     target_dim=2, selected_speakers=selected_speakers)"
   ]
  },
  {
   "cell_type": "markdown",
   "metadata": {},
   "source": [
    "## Visualize two speakers at the same time \n"
   ]
  },
  {
   "cell_type": "code",
   "execution_count": null,
   "metadata": {},
   "outputs": [],
   "source": [
    "def create_one_scatter_for_two_speakers(title, speaker_names, emotions_xy_pairs1, emotions_xy_pairs2):\n",
    "    colors = ['blue', 'red', 'green', 'orange']\n",
    "    traces = []\n",
    "    counter = 0\n",
    "    sorted_emotions = sorted(emotions_xy_pairs1.keys())\n",
    "    for emotion in sorted_emotions:\n",
    "        xypairs = emotions_xy_pairs1[emotion]\n",
    "        trace = go.Scatter(\n",
    "            x = xypairs['xs'],\n",
    "            y = xypairs['ys'],\n",
    "            name = speaker_names[0]+' '+emotion,\n",
    "            mode = 'markers',\n",
    "            opacity = 0.5,\n",
    "            marker = dict(symbol = 'star', size = 10, color=colors[counter])    \n",
    "        )\n",
    "        traces.append(trace)\n",
    "        counter += 1\n",
    "        \n",
    "    counter = 0\n",
    "    for emotion in sorted_emotions:\n",
    "        xypairs = emotions_xy_pairs2[emotion]\n",
    "        trace = go.Scatter(\n",
    "            x = xypairs['xs'],\n",
    "            y = xypairs['ys'],\n",
    "            name = speaker_names[1]+' '+emotion,\n",
    "            mode = 'markers',\n",
    "            opacity = 0.5,\n",
    "            marker = dict(size = 10, color=colors[counter])    \n",
    "        )\n",
    "        traces.append(trace)\n",
    "        counter += 1\n",
    "        \n",
    "    layout = dict(title = title)\n",
    "    fig = dict(data=traces, layout=layout)\n",
    "    plotly.offline.iplot(fig, filename=title)\n"
   ]
  },
  {
   "cell_type": "code",
   "execution_count": null,
   "metadata": {
    "scrolled": true
   },
   "outputs": [],
   "source": [
    "Y1, Y2 = fuse_excited_happiness(Y1), fuse_excited_happiness(Y2)\n",
    "for method, X_dic in results_for_methods.items():\n",
    "    emotions_xy_pairs1 = get_xy_pairs_based_on_class(X_dic['X1'], Y1)\n",
    "    emotions_xy_pairs2 = get_xy_pairs_based_on_class(X_dic['X2'], Y2)\n",
    "    create_one_scatter_for_two_speakers(method, selected_speakers, emotions_xy_pairs1, emotions_xy_pairs2)"
   ]
  },
  {
   "cell_type": "markdown",
   "metadata": {},
   "source": [
    "### With Speakers of the same Session (Basically the same Dialogue Patterns)"
   ]
  },
  {
   "cell_type": "code",
   "execution_count": null,
   "metadata": {},
   "outputs": [],
   "source": [
    "selected_speakers_same = ['Ses02M', 'Ses02F']\n",
    "Fused_dic_same = IEMOCAP_loader.get_fused_features([l_feats_p, nl_feats_p])\n",
    "results_for_methods_same, Y1_same, Y2_same = create_2d_manifolds_for_all_methods_for_speakers(\n",
    "    Fused_dic_same, methods_to_test, target_dim=2, selected_speakers=selected_speakers_same)"
   ]
  },
  {
   "cell_type": "code",
   "execution_count": null,
   "metadata": {
    "scrolled": true
   },
   "outputs": [],
   "source": [
    "Y1_same, Y2_same = fuse_excited_happiness(Y1_same), fuse_excited_happiness(Y2_same)\n",
    "for method, X_dic in results_for_methods_same.items():\n",
    "    emotions_xy_pairs1 = get_xy_pairs_based_on_class(X_dic['X1'], Y1)\n",
    "    emotions_xy_pairs2 = get_xy_pairs_based_on_class(X_dic['X2'], Y2)\n",
    "    create_one_scatter_for_two_speakers(method, selected_speakers_same, emotions_xy_pairs1, emotions_xy_pairs2)"
   ]
  },
  {
   "cell_type": "code",
   "execution_count": null,
   "metadata": {},
   "outputs": [],
   "source": [
    "# MAnifolds in 3d \n",
    "results_for_methods_3d, Y1_3d, Y2_3d = create_2d_manifolds_for_all_methods_for_speakers(Fused_IEMO_dic, methods_to_test, \n",
    "                                                     target_dim=3, selected_speakers=selected_speakers)"
   ]
  },
  {
   "cell_type": "code",
   "execution_count": null,
   "metadata": {},
   "outputs": [],
   "source": [
    "def get_xy_pairs_based_on_class_3d(Xm, Ym):\n",
    "    emotions = {}\n",
    "    for y in Ym:\n",
    "        if not y in emotions:\n",
    "            emotions[y] = {'xs':[], 'ys':[], 'zs':[]}\n",
    "    \n",
    "    if Xm is None:\n",
    "        return emotions\n",
    "    \n",
    "    for i in np.arange(Xm.shape[0]):\n",
    "        this_emotion = Ym[i]\n",
    "        emotions[this_emotion]['xs'].append(Xm[i,0])\n",
    "        emotions[this_emotion]['ys'].append(Xm[i,1])\n",
    "        emotions[this_emotion]['zs'].append(Xm[i,2])\n",
    "    return emotions\n",
    "\n",
    "def create_one_scatter_for_two_speakers_3d(title, speaker_names, emotions_xy_pairs1, emotions_xy_pairs2):\n",
    "    colors = ['blue', 'red', 'green', 'orange']\n",
    "    traces = []\n",
    "    counter = 0\n",
    "    sorted_emotions = sorted(emotions_xy_pairs1.keys())\n",
    "    for emotion in sorted_emotions:\n",
    "        xypairs = emotions_xy_pairs1[emotion]\n",
    "        trace = go.Scatter3d(\n",
    "            x = xypairs['xs'],\n",
    "            y = xypairs['ys'],\n",
    "            z = xypairs['zs'],\n",
    "            name = speaker_names[0]+' '+emotion,\n",
    "            mode = 'markers',\n",
    "            opacity = 0.5,\n",
    "            marker = dict(symbol = 'x', size = 5, color=colors[counter])    \n",
    "        )\n",
    "        traces.append(trace)\n",
    "        counter += 1\n",
    "        \n",
    "    counter = 0\n",
    "    for emotion in sorted_emotions:\n",
    "        xypairs = emotions_xy_pairs2[emotion]\n",
    "        trace = go.Scatter3d(\n",
    "            x = xypairs['xs'],\n",
    "            y = xypairs['ys'],\n",
    "            z = xypairs['zs'],\n",
    "            name = speaker_names[1]+' '+emotion,\n",
    "            mode = 'markers',\n",
    "            opacity = 0.5,\n",
    "            marker = dict(size = 5, color=colors[counter])    \n",
    "        )\n",
    "        traces.append(trace)\n",
    "        counter += 1\n",
    "        \n",
    "    layout = dict(title = title)\n",
    "    fig = dict(data=traces, layout=layout)\n",
    "    plotly.offline.iplot(fig, filename=title)\n"
   ]
  },
  {
   "cell_type": "code",
   "execution_count": null,
   "metadata": {},
   "outputs": [],
   "source": [
    "Y1_3d, Y2_3d = fuse_excited_happiness(Y1_3d), fuse_excited_happiness(Y2_3d)\n",
    "for method, X_dic in results_for_methods_3d.items():\n",
    "    emotions_xy_pairs1 = get_xy_pairs_based_on_class_3d(X_dic['X1'], Y1_3d)\n",
    "    emotions_xy_pairs2 = get_xy_pairs_based_on_class_3d(X_dic['X2'], Y2_3d)\n",
    "    create_one_scatter_for_two_speakers_3d(method, selected_speakers, emotions_xy_pairs1, emotions_xy_pairs2)"
   ]
  },
  {
   "cell_type": "markdown",
   "metadata": {},
   "source": [
    "# Create the emotional maps from EmoDB in 2d space"
   ]
  },
  {
   "cell_type": "code",
   "execution_count": null,
   "metadata": {},
   "outputs": [],
   "source": [
    "methods_to_show = ['Pattern Search MDS', 'MDS SMACOF', 'Spectral Embedding', 'LLE', 'ISOMAP', 'Truncated SVD']\n",
    "X_RQA3, Y_RQA3 = create_2d_manifolds_for_all_methods(RQA_dic, methods_to_show)\n",
    "X_Emobase3, Y_Emobase3 = create_2d_manifolds_for_all_methods(Linear_dic, methods_to_show)\n",
    "X_Fused3, Y_fused3 = create_2d_manifolds_for_all_methods(Fused_dic, methods_to_show)"
   ]
  },
  {
   "cell_type": "code",
   "execution_count": null,
   "metadata": {
    "scrolled": false
   },
   "outputs": [],
   "source": [
    "from plotly import tools\n",
    "def get_one_scatter_2d_traces(title, emotion_data, showlegend=False):\n",
    "    colors = ['blue', 'red', 'green', 'orange', 'grey', 'magenta', 'black']\n",
    "    traces = []\n",
    "    sorted_emotions = sorted(emotion_data.keys())\n",
    "    counter = 0\n",
    "    for emotion in sorted_emotions:\n",
    "        xypairs = emotion_data[emotion]\n",
    "        trace = go.Scatter(\n",
    "            x = xypairs['xs'],\n",
    "            y = xypairs['ys'],\n",
    "#             z = xypairs['zs'],\n",
    "            name = emotion,\n",
    "            legendgroup = emotion,\n",
    "            mode = 'markers',\n",
    "            opacity = 0.5,\n",
    "            marker = dict(symbol = 'diamond', size = 5, color = colors[counter]),\n",
    "            showlegend = showlegend\n",
    "        )\n",
    "        counter += 1\n",
    "        traces.append(trace)\n",
    "    return traces\n",
    "\n",
    "def create_subplots3ds_emodb(Xs, Y, methods_to_show):\n",
    "    \n",
    "    if len(methods_to_show) == 6:\n",
    "        pass \n",
    "    else: \n",
    "        raise IndexError('Not 6 plots to produce')\n",
    "        \n",
    "    fig = tools.make_subplots(rows=3, cols=2,\n",
    "                             subplot_titles=[x if not x == 'Spectral Embedding' else 'Spectral Clustering'\n",
    "                                             for x in methods_to_show]\n",
    "                                             ,\n",
    "                             horizontal_spacing = 0.01, vertical_spacing = 0.1)    \n",
    "\n",
    "    legend_shower = methods_to_show[-1]\n",
    "    \n",
    "    row = 1\n",
    "    place_dic = {}\n",
    "    for k, method in enumerate(methods_to_show):\n",
    "        if k % 2: \n",
    "            place_dic[method] = (row, 2)\n",
    "            row += 1\n",
    "        else:\n",
    "            place_dic[method] = (row, 1)\n",
    "\n",
    "    for method in methods_to_show:\n",
    "        Xm = Xs[method]\n",
    "        emotion_data = get_xy_pairs_based_on_class(Xm, Y)\n",
    "        if legend_shower == method:\n",
    "            print legend_shower\n",
    "            this_traces = get_one_scatter_2d_traces(method, emotion_data, showlegend=True)\n",
    "        else:\n",
    "            this_traces = get_one_scatter_2d_traces(method, emotion_data, showlegend=False)\n",
    "        for trace in this_traces:\n",
    "            fig.append_trace(trace, place_dic[method][0], place_dic[method][1])\n",
    "\n",
    "    fig['layout'].update(height=1000, width=1000, legend=dict(orientation=\"h\",\n",
    "                                                             font=dict(size=16)))\n",
    "    plotly.offline.iplot(fig, filename='yolarela')\n",
    "        \n",
    "methods_to_show = ['Pattern Search MDS', 'MDS SMACOF', 'Spectral Embedding', 'LLE', 'ISOMAP', 'Truncated SVD']\n",
    "create_subplots3ds_emodb(X_RQA3, Y_RQA3, methods_to_show)\n",
    "        \n",
    "#     layout = dict(title = title)\n",
    "#     fig = dict(data=traces, layout=layout)\n",
    "#     plotly.offline.iplot(fig, filename=title)"
   ]
  },
  {
   "cell_type": "code",
   "execution_count": null,
   "metadata": {
    "scrolled": false
   },
   "outputs": [],
   "source": [
    "create_subplots3ds_emodb(X_Emobase3, Y_Emobase3, methods_to_show)\n"
   ]
  },
  {
   "cell_type": "code",
   "execution_count": null,
   "metadata": {
    "scrolled": false
   },
   "outputs": [],
   "source": [
    "create_subplots3ds_emodb(X_Fused3, Y_fused3, methods_to_show)"
   ]
  },
  {
   "cell_type": "markdown",
   "metadata": {},
   "source": [
    "# Create IEMOCAP manifolds on 3d space"
   ]
  },
  {
   "cell_type": "code",
   "execution_count": null,
   "metadata": {},
   "outputs": [],
   "source": [
    "def get_one_scatter_3d_traces(title, selected_speakers, emotions_xy_pairs1, \n",
    "                                                    emotions_xy_pairs2, showlegend=False):\n",
    "    marker_size = 3\n",
    "    colors = ['green', 'magenta', 'blue',   'orange', 'grey', 'magenta', 'black']\n",
    "    traces = []\n",
    "    sorted_emotions = sorted(emotions_xy_pairs1.keys())\n",
    "    counter = 0\n",
    "    for emotion in sorted_emotions:\n",
    "        xypairs = emotions_xy_pairs1[emotion]\n",
    "        trace = go.Scatter3d(\n",
    "            x = xypairs['xs'],\n",
    "            y = xypairs['ys'],\n",
    "            z = xypairs['zs'],\n",
    "            name = selected_speakers[0] + ' ' + emotion,\n",
    "            legendgroup = emotion,\n",
    "            mode = 'markers',\n",
    "            opacity = 0.5,\n",
    "            marker = dict(symbol = 'x', size = marker_size, color = colors[counter]),\n",
    "            showlegend = showlegend\n",
    "        )\n",
    "        counter += 1\n",
    "        traces.append(trace)\n",
    "        \n",
    "    counter = 0\n",
    "    for emotion in sorted_emotions:\n",
    "        xypairs = emotions_xy_pairs2[emotion]\n",
    "        trace = go.Scatter3d(\n",
    "            x = xypairs['xs'],\n",
    "            y = xypairs['ys'],\n",
    "            z = xypairs['zs'],\n",
    "            name = selected_speakers[1] + ' ' + emotion,\n",
    "            legendgroup = emotion,\n",
    "            mode = 'markers',\n",
    "            opacity = 0.5,\n",
    "            marker = dict(symbol = 'circle', size = marker_size, color = colors[counter]),\n",
    "            showlegend = showlegend\n",
    "        )\n",
    "        counter += 1\n",
    "        traces.append(trace)    \n",
    "    return traces\n",
    "\n",
    "def create_subplots3ds_iemocap(Xs, Y1_3d, Y2_3d, methods_to_show, selected_speakers):\n",
    "    \n",
    "    if len(methods_to_show) == 6:\n",
    "        pass \n",
    "    else: \n",
    "        raise IndexError('Not 6 plots to produce')\n",
    "        \n",
    "    fig = tools.make_subplots(rows=3, cols=2,\n",
    "#                              subplot_titles=methods_to_show,\n",
    "                             horizontal_spacing = 0.01, vertical_spacing = 0.1,\n",
    "                             specs=[[{'is_3d': True}, {'is_3d': True}],\n",
    "                                    [{'is_3d': True}, {'is_3d': True}],\n",
    "                                    [{'is_3d': True}, {'is_3d': True}]])    \n",
    "\n",
    "    legend_shower = methods_to_show[-1]\n",
    "    \n",
    "    row = 1\n",
    "    place_dic = {}\n",
    "    for k, method in enumerate(methods_to_show):\n",
    "        if k % 2: \n",
    "            place_dic[method] = (row, 2)\n",
    "            row += 1\n",
    "        else:\n",
    "            place_dic[method] = (row, 1)\n",
    "            \n",
    "    for method in methods_to_show:\n",
    "        X_dic = Xs[method]\n",
    "        emotions_xy_pairs1 = get_xy_pairs_based_on_class_3d(X_dic['X1'], Y1_3d)\n",
    "        emotions_xy_pairs2 = get_xy_pairs_based_on_class_3d(X_dic['X2'], Y2_3d)\n",
    "        \n",
    "        if legend_shower == method:\n",
    "            print legend_shower\n",
    "            this_traces = get_one_scatter_3d_traces(method, selected_speakers, emotions_xy_pairs1, \n",
    "                                                    emotions_xy_pairs2, showlegend=True)\n",
    "        else:\n",
    "            this_traces = get_one_scatter_3d_traces(method, selected_speakers, emotions_xy_pairs1, \n",
    "                                                    emotions_xy_pairs2, showlegend=False)\n",
    "            \n",
    "        for trace in this_traces:\n",
    "            fig.append_trace(trace, place_dic[method][0], place_dic[method][1])\n",
    "        \n",
    "    fig['layout'].update(height=1000, width=1000, legend=dict(orientation=\"h\",\n",
    "                                                             font=dict(size=20)),\n",
    "                        title = 'From left to right: '+ ', '.join([x if not x == 'Spectral Embedding' else 'Spectral Clustering'\n",
    "                                             for x in methods_to_show]))\n",
    "    plotly.offline.iplot(fig, filename='yolarela')\n",
    "        \n",
    "methods_to_show = ['Pattern Search MDS', 'MDS SMACOF', 'Spectral Embedding', 'LLE', 'ISOMAP', 'Truncated SVD']\n",
    "create_subplots3ds_iemocap(results_for_methods_3d, Y1_3d, Y2_3d, methods_to_show, selected_speakers)"
   ]
  },
  {
   "cell_type": "code",
   "execution_count": null,
   "metadata": {},
   "outputs": [],
   "source": []
  },
  {
   "cell_type": "code",
   "execution_count": null,
   "metadata": {},
   "outputs": [],
   "source": []
  }
 ],
 "metadata": {
  "kernelspec": {
   "display_name": "Python 2",
   "language": "python",
   "name": "python2"
  },
  "language_info": {
   "codemirror_mode": {
    "name": "ipython",
    "version": 2
   },
   "file_extension": ".py",
   "mimetype": "text/x-python",
   "name": "python",
   "nbconvert_exporter": "python",
   "pygments_lexer": "ipython2",
   "version": "2.7.12"
  }
 },
 "nbformat": 4,
 "nbformat_minor": 2
}
